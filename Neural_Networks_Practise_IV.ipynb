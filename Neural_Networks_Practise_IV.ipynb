{
  "nbformat": 4,
  "nbformat_minor": 0,
  "metadata": {
    "colab": {
      "provenance": [],
      "authorship_tag": "ABX9TyNQGlenRN9KS9iZrUrlzGaR"
    },
    "kernelspec": {
      "name": "python3",
      "display_name": "Python 3"
    },
    "language_info": {
      "name": "python"
    }
  },
  "cells": [
    {
      "cell_type": "code",
      "execution_count": 29,
      "metadata": {
        "id": "fmaY0_wjRPXf"
      },
      "outputs": [],
      "source": [
        "import numpy as np\n",
        "import math"
      ]
    },
    {
      "cell_type": "code",
      "source": [
        "# 1. Create the sigmoid function\n",
        "# 2. Create the inputs\n",
        "# 3. Create the output layer\n",
        "# 3. Create the hidden layers\n",
        "# 4. Create the weights\n",
        "# 5. Create the bias\n",
        "# 6. Begin the training\n",
        "# 7. initialize the input layer\n",
        "# 8. Perform the matrix multiplication of the input layer and the weights\n",
        "# 9. Compute the loss - how error rate between the input layer and the output layer\n",
        "# 10. Multiply this loss with the derivative of the sigmoid function i.e the input times the weights\n",
        "# 11. Update the weights by multiplying a transposed iunput vectore by the error_delta/derivative\n",
        "# 12. Calculate the accuracy"
      ],
      "metadata": {
        "id": "4MekaTi8RYAV"
      },
      "execution_count": 30,
      "outputs": []
    },
    {
      "cell_type": "code",
      "source": [
        "def sigmoid(x, derivative=False):\n",
        "  if derivative == True:\n",
        "    return x*(1-x)\n",
        "  return 1/(1+np.exp(-x))"
      ],
      "metadata": {
        "id": "w_cExDfOP2Po"
      },
      "execution_count": 31,
      "outputs": []
    },
    {
      "cell_type": "code",
      "source": [
        "X = np.array([[1, 0, 1], [1, 2, 1]])\n",
        "y = np.array([[1, 3]]).T"
      ],
      "metadata": {
        "id": "QAsM2qpyQLQE"
      },
      "execution_count": 32,
      "outputs": []
    },
    {
      "cell_type": "code",
      "source": [
        "np.random.seed(1)"
      ],
      "metadata": {
        "id": "G0BsPUDeQeCa"
      },
      "execution_count": 33,
      "outputs": []
    },
    {
      "cell_type": "code",
      "source": [
        "weights = 2*np.random.random((3, 1)) - 1"
      ],
      "metadata": {
        "id": "D40T9cP4QUy2"
      },
      "execution_count": 34,
      "outputs": []
    },
    {
      "cell_type": "code",
      "source": [
        "biases = np.random.randn()"
      ],
      "metadata": {
        "id": "kToclDWlQaeu"
      },
      "execution_count": 35,
      "outputs": []
    },
    {
      "cell_type": "code",
      "source": [
        "for i in range(1000):\n",
        "  inputs = X\n",
        "  layer_1 = sigmoid(np.dot(inputs, weights) + biases)\n",
        "  loss = y - layer_1\n",
        "  loss_delta = loss * sigmoid(layer_1, derivative=True)\n",
        "  weights += np.dot(inputs.T, loss_delta)"
      ],
      "metadata": {
        "id": "7rVwV13oQgIl"
      },
      "execution_count": 36,
      "outputs": []
    },
    {
      "cell_type": "code",
      "source": [
        "print(layer_1)"
      ],
      "metadata": {
        "colab": {
          "base_uri": "https://localhost:8080/"
        },
        "id": "HbneT3RDRTNC",
        "outputId": "df55eda4-2a32-4fa3-f563-1c1e7649d03c"
      },
      "execution_count": 37,
      "outputs": [
        {
          "output_type": "stream",
          "name": "stdout",
          "text": [
            "[[0.98637582]\n",
            " [0.99995414]]\n"
          ]
        }
      ]
    }
  ]
}