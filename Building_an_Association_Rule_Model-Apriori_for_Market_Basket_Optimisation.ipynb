{
  "nbformat": 4,
  "nbformat_minor": 0,
  "metadata": {
    "colab": {
      "provenance": [],
      "authorship_tag": "ABX9TyMLqpT8m/Bsks5syCfPIBGs"
    },
    "kernelspec": {
      "name": "python3",
      "display_name": "Python 3"
    },
    "language_info": {
      "name": "python"
    }
  },
  "cells": [
    {
      "cell_type": "code",
      "execution_count": 1,
      "metadata": {
        "colab": {
          "base_uri": "https://localhost:8080/"
        },
        "id": "nQgq-iZCvzQc",
        "outputId": "f48ba6e9-eec7-4a2b-e8e8-614d05d635b4"
      },
      "outputs": [
        {
          "output_type": "stream",
          "name": "stdout",
          "text": [
            "Collecting apyori\n",
            "  Downloading apyori-1.1.2.tar.gz (8.6 kB)\n",
            "  Preparing metadata (setup.py) ... \u001b[?25l\u001b[?25hdone\n",
            "Building wheels for collected packages: apyori\n",
            "  Building wheel for apyori (setup.py) ... \u001b[?25l\u001b[?25hdone\n",
            "  Created wheel for apyori: filename=apyori-1.1.2-py3-none-any.whl size=5955 sha256=1b9b62ac2db582c972780d0661471b727f16bab838a6e614ad41957289f4eed3\n",
            "  Stored in directory: /root/.cache/pip/wheels/c4/1a/79/20f55c470a50bb3702a8cb7c94d8ada15573538c7f4baebe2d\n",
            "Successfully built apyori\n",
            "Installing collected packages: apyori\n",
            "Successfully installed apyori-1.1.2\n"
          ]
        }
      ],
      "source": [
        "!pip install apyori"
      ]
    },
    {
      "cell_type": "code",
      "source": [
        "import numpy as np\n",
        "import pandas as pd\n",
        "import matplotlib.pyplot as plt"
      ],
      "metadata": {
        "id": "gtjWF_rqv8-u"
      },
      "execution_count": 2,
      "outputs": []
    },
    {
      "cell_type": "code",
      "source": [
        "data = pd.read_csv(\"Market_Basket_Optimisation.csv\", header=None)"
      ],
      "metadata": {
        "id": "qwukISIlwDlO"
      },
      "execution_count": 4,
      "outputs": []
    },
    {
      "cell_type": "code",
      "source": [
        "print(len(data))"
      ],
      "metadata": {
        "colab": {
          "base_uri": "https://localhost:8080/"
        },
        "id": "kTN3EQZYxZgV",
        "outputId": "e2c4f265-72ee-49ca-de07-927389c45355"
      },
      "execution_count": 5,
      "outputs": [
        {
          "output_type": "stream",
          "name": "stdout",
          "text": [
            "7501\n"
          ]
        }
      ]
    },
    {
      "cell_type": "code",
      "source": [
        "print(len(data.columns))"
      ],
      "metadata": {
        "colab": {
          "base_uri": "https://localhost:8080/"
        },
        "id": "DLuUet75x-F2",
        "outputId": "1dffd350-98f3-4401-a7a8-eb59b6d571b3"
      },
      "execution_count": 7,
      "outputs": [
        {
          "output_type": "stream",
          "name": "stdout",
          "text": [
            "20\n"
          ]
        }
      ]
    },
    {
      "cell_type": "code",
      "source": [
        "print(data.values)"
      ],
      "metadata": {
        "colab": {
          "base_uri": "https://localhost:8080/"
        },
        "id": "3Ywjhy5XyGOe",
        "outputId": "539edca5-fa6c-4a5e-ed32-a9cc3c1ea320"
      },
      "execution_count": 12,
      "outputs": [
        {
          "output_type": "stream",
          "name": "stdout",
          "text": [
            "[['shrimp' 'almonds' 'avocado' ... 'frozen smoothie' 'spinach'\n",
            "  'olive oil']\n",
            " ['burgers' 'meatballs' 'eggs' ... nan nan nan]\n",
            " ['chutney' nan nan ... nan nan nan]\n",
            " ...\n",
            " ['chicken' nan nan ... nan nan nan]\n",
            " ['escalope' 'green tea' nan ... nan nan nan]\n",
            " ['eggs' 'frozen smoothie' 'yogurt cake' ... nan nan nan]]\n"
          ]
        }
      ]
    },
    {
      "cell_type": "code",
      "source": [
        "transactions = []\n",
        "for i in range(0, len(data)):\n",
        "  for j in range(0, len(data.columns)):\n",
        "    transactions.append(str(data.values[i,j]))"
      ],
      "metadata": {
        "id": "Yq9FS6WMwMnU"
      },
      "execution_count": 13,
      "outputs": []
    },
    {
      "cell_type": "code",
      "source": [],
      "metadata": {
        "id": "Nt1ue1XKzQtB"
      },
      "execution_count": null,
      "outputs": []
    }
  ]
}