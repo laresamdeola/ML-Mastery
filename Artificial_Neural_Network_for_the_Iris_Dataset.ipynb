{
  "nbformat": 4,
  "nbformat_minor": 0,
  "metadata": {
    "colab": {
      "provenance": [],
      "authorship_tag": "ABX9TyMLHlON7FYxBXaqfn30uDS3"
    },
    "kernelspec": {
      "name": "python3",
      "display_name": "Python 3"
    },
    "language_info": {
      "name": "python"
    }
  },
  "cells": [
    {
      "cell_type": "code",
      "execution_count": 450,
      "metadata": {
        "id": "O2dg21SDcDgG"
      },
      "outputs": [],
      "source": [
        "import numpy as np\n",
        "import pandas as pd\n",
        "import matplotlib.pyplot as plt\n",
        "import keras\n",
        "from keras import layers"
      ]
    },
    {
      "cell_type": "code",
      "source": [
        "data = pd.read_csv(\"iris_data.csv\")"
      ],
      "metadata": {
        "id": "4K-DQnSpcUuK"
      },
      "execution_count": 451,
      "outputs": []
    },
    {
      "cell_type": "code",
      "source": [
        "data.head()"
      ],
      "metadata": {
        "colab": {
          "base_uri": "https://localhost:8080/",
          "height": 206
        },
        "id": "jetdIREFcZX1",
        "outputId": "8812841c-8508-428f-a378-0341ffd823f4"
      },
      "execution_count": 452,
      "outputs": [
        {
          "output_type": "execute_result",
          "data": {
            "text/plain": [
              "   sepal_length  sepal_width  petal_length  petal_width       flower\n",
              "0           5.1          3.5           1.4          0.2  Iris-setosa\n",
              "1           4.9          3.0           1.4          0.2  Iris-setosa\n",
              "2           4.7          3.2           1.3          0.2  Iris-setosa\n",
              "3           4.6          3.1           1.5          0.2  Iris-setosa\n",
              "4           5.0          3.6           1.4          0.2  Iris-setosa"
            ],
            "text/html": [
              "\n",
              "  <div id=\"df-463085f9-9d09-4851-ab17-8b1a3f4e9a10\" class=\"colab-df-container\">\n",
              "    <div>\n",
              "<style scoped>\n",
              "    .dataframe tbody tr th:only-of-type {\n",
              "        vertical-align: middle;\n",
              "    }\n",
              "\n",
              "    .dataframe tbody tr th {\n",
              "        vertical-align: top;\n",
              "    }\n",
              "\n",
              "    .dataframe thead th {\n",
              "        text-align: right;\n",
              "    }\n",
              "</style>\n",
              "<table border=\"1\" class=\"dataframe\">\n",
              "  <thead>\n",
              "    <tr style=\"text-align: right;\">\n",
              "      <th></th>\n",
              "      <th>sepal_length</th>\n",
              "      <th>sepal_width</th>\n",
              "      <th>petal_length</th>\n",
              "      <th>petal_width</th>\n",
              "      <th>flower</th>\n",
              "    </tr>\n",
              "  </thead>\n",
              "  <tbody>\n",
              "    <tr>\n",
              "      <th>0</th>\n",
              "      <td>5.1</td>\n",
              "      <td>3.5</td>\n",
              "      <td>1.4</td>\n",
              "      <td>0.2</td>\n",
              "      <td>Iris-setosa</td>\n",
              "    </tr>\n",
              "    <tr>\n",
              "      <th>1</th>\n",
              "      <td>4.9</td>\n",
              "      <td>3.0</td>\n",
              "      <td>1.4</td>\n",
              "      <td>0.2</td>\n",
              "      <td>Iris-setosa</td>\n",
              "    </tr>\n",
              "    <tr>\n",
              "      <th>2</th>\n",
              "      <td>4.7</td>\n",
              "      <td>3.2</td>\n",
              "      <td>1.3</td>\n",
              "      <td>0.2</td>\n",
              "      <td>Iris-setosa</td>\n",
              "    </tr>\n",
              "    <tr>\n",
              "      <th>3</th>\n",
              "      <td>4.6</td>\n",
              "      <td>3.1</td>\n",
              "      <td>1.5</td>\n",
              "      <td>0.2</td>\n",
              "      <td>Iris-setosa</td>\n",
              "    </tr>\n",
              "    <tr>\n",
              "      <th>4</th>\n",
              "      <td>5.0</td>\n",
              "      <td>3.6</td>\n",
              "      <td>1.4</td>\n",
              "      <td>0.2</td>\n",
              "      <td>Iris-setosa</td>\n",
              "    </tr>\n",
              "  </tbody>\n",
              "</table>\n",
              "</div>\n",
              "    <div class=\"colab-df-buttons\">\n",
              "\n",
              "  <div class=\"colab-df-container\">\n",
              "    <button class=\"colab-df-convert\" onclick=\"convertToInteractive('df-463085f9-9d09-4851-ab17-8b1a3f4e9a10')\"\n",
              "            title=\"Convert this dataframe to an interactive table.\"\n",
              "            style=\"display:none;\">\n",
              "\n",
              "  <svg xmlns=\"http://www.w3.org/2000/svg\" height=\"24px\" viewBox=\"0 -960 960 960\">\n",
              "    <path d=\"M120-120v-720h720v720H120Zm60-500h600v-160H180v160Zm220 220h160v-160H400v160Zm0 220h160v-160H400v160ZM180-400h160v-160H180v160Zm440 0h160v-160H620v160ZM180-180h160v-160H180v160Zm440 0h160v-160H620v160Z\"/>\n",
              "  </svg>\n",
              "    </button>\n",
              "\n",
              "  <style>\n",
              "    .colab-df-container {\n",
              "      display:flex;\n",
              "      gap: 12px;\n",
              "    }\n",
              "\n",
              "    .colab-df-convert {\n",
              "      background-color: #E8F0FE;\n",
              "      border: none;\n",
              "      border-radius: 50%;\n",
              "      cursor: pointer;\n",
              "      display: none;\n",
              "      fill: #1967D2;\n",
              "      height: 32px;\n",
              "      padding: 0 0 0 0;\n",
              "      width: 32px;\n",
              "    }\n",
              "\n",
              "    .colab-df-convert:hover {\n",
              "      background-color: #E2EBFA;\n",
              "      box-shadow: 0px 1px 2px rgba(60, 64, 67, 0.3), 0px 1px 3px 1px rgba(60, 64, 67, 0.15);\n",
              "      fill: #174EA6;\n",
              "    }\n",
              "\n",
              "    .colab-df-buttons div {\n",
              "      margin-bottom: 4px;\n",
              "    }\n",
              "\n",
              "    [theme=dark] .colab-df-convert {\n",
              "      background-color: #3B4455;\n",
              "      fill: #D2E3FC;\n",
              "    }\n",
              "\n",
              "    [theme=dark] .colab-df-convert:hover {\n",
              "      background-color: #434B5C;\n",
              "      box-shadow: 0px 1px 3px 1px rgba(0, 0, 0, 0.15);\n",
              "      filter: drop-shadow(0px 1px 2px rgba(0, 0, 0, 0.3));\n",
              "      fill: #FFFFFF;\n",
              "    }\n",
              "  </style>\n",
              "\n",
              "    <script>\n",
              "      const buttonEl =\n",
              "        document.querySelector('#df-463085f9-9d09-4851-ab17-8b1a3f4e9a10 button.colab-df-convert');\n",
              "      buttonEl.style.display =\n",
              "        google.colab.kernel.accessAllowed ? 'block' : 'none';\n",
              "\n",
              "      async function convertToInteractive(key) {\n",
              "        const element = document.querySelector('#df-463085f9-9d09-4851-ab17-8b1a3f4e9a10');\n",
              "        const dataTable =\n",
              "          await google.colab.kernel.invokeFunction('convertToInteractive',\n",
              "                                                    [key], {});\n",
              "        if (!dataTable) return;\n",
              "\n",
              "        const docLinkHtml = 'Like what you see? Visit the ' +\n",
              "          '<a target=\"_blank\" href=https://colab.research.google.com/notebooks/data_table.ipynb>data table notebook</a>'\n",
              "          + ' to learn more about interactive tables.';\n",
              "        element.innerHTML = '';\n",
              "        dataTable['output_type'] = 'display_data';\n",
              "        await google.colab.output.renderOutput(dataTable, element);\n",
              "        const docLink = document.createElement('div');\n",
              "        docLink.innerHTML = docLinkHtml;\n",
              "        element.appendChild(docLink);\n",
              "      }\n",
              "    </script>\n",
              "  </div>\n",
              "\n",
              "\n",
              "<div id=\"df-685e5f2c-9612-449d-9065-29213132a4fe\">\n",
              "  <button class=\"colab-df-quickchart\" onclick=\"quickchart('df-685e5f2c-9612-449d-9065-29213132a4fe')\"\n",
              "            title=\"Suggest charts.\"\n",
              "            style=\"display:none;\">\n",
              "\n",
              "<svg xmlns=\"http://www.w3.org/2000/svg\" height=\"24px\"viewBox=\"0 0 24 24\"\n",
              "     width=\"24px\">\n",
              "    <g>\n",
              "        <path d=\"M19 3H5c-1.1 0-2 .9-2 2v14c0 1.1.9 2 2 2h14c1.1 0 2-.9 2-2V5c0-1.1-.9-2-2-2zM9 17H7v-7h2v7zm4 0h-2V7h2v10zm4 0h-2v-4h2v4z\"/>\n",
              "    </g>\n",
              "</svg>\n",
              "  </button>\n",
              "\n",
              "<style>\n",
              "  .colab-df-quickchart {\n",
              "      --bg-color: #E8F0FE;\n",
              "      --fill-color: #1967D2;\n",
              "      --hover-bg-color: #E2EBFA;\n",
              "      --hover-fill-color: #174EA6;\n",
              "      --disabled-fill-color: #AAA;\n",
              "      --disabled-bg-color: #DDD;\n",
              "  }\n",
              "\n",
              "  [theme=dark] .colab-df-quickchart {\n",
              "      --bg-color: #3B4455;\n",
              "      --fill-color: #D2E3FC;\n",
              "      --hover-bg-color: #434B5C;\n",
              "      --hover-fill-color: #FFFFFF;\n",
              "      --disabled-bg-color: #3B4455;\n",
              "      --disabled-fill-color: #666;\n",
              "  }\n",
              "\n",
              "  .colab-df-quickchart {\n",
              "    background-color: var(--bg-color);\n",
              "    border: none;\n",
              "    border-radius: 50%;\n",
              "    cursor: pointer;\n",
              "    display: none;\n",
              "    fill: var(--fill-color);\n",
              "    height: 32px;\n",
              "    padding: 0;\n",
              "    width: 32px;\n",
              "  }\n",
              "\n",
              "  .colab-df-quickchart:hover {\n",
              "    background-color: var(--hover-bg-color);\n",
              "    box-shadow: 0 1px 2px rgba(60, 64, 67, 0.3), 0 1px 3px 1px rgba(60, 64, 67, 0.15);\n",
              "    fill: var(--button-hover-fill-color);\n",
              "  }\n",
              "\n",
              "  .colab-df-quickchart-complete:disabled,\n",
              "  .colab-df-quickchart-complete:disabled:hover {\n",
              "    background-color: var(--disabled-bg-color);\n",
              "    fill: var(--disabled-fill-color);\n",
              "    box-shadow: none;\n",
              "  }\n",
              "\n",
              "  .colab-df-spinner {\n",
              "    border: 2px solid var(--fill-color);\n",
              "    border-color: transparent;\n",
              "    border-bottom-color: var(--fill-color);\n",
              "    animation:\n",
              "      spin 1s steps(1) infinite;\n",
              "  }\n",
              "\n",
              "  @keyframes spin {\n",
              "    0% {\n",
              "      border-color: transparent;\n",
              "      border-bottom-color: var(--fill-color);\n",
              "      border-left-color: var(--fill-color);\n",
              "    }\n",
              "    20% {\n",
              "      border-color: transparent;\n",
              "      border-left-color: var(--fill-color);\n",
              "      border-top-color: var(--fill-color);\n",
              "    }\n",
              "    30% {\n",
              "      border-color: transparent;\n",
              "      border-left-color: var(--fill-color);\n",
              "      border-top-color: var(--fill-color);\n",
              "      border-right-color: var(--fill-color);\n",
              "    }\n",
              "    40% {\n",
              "      border-color: transparent;\n",
              "      border-right-color: var(--fill-color);\n",
              "      border-top-color: var(--fill-color);\n",
              "    }\n",
              "    60% {\n",
              "      border-color: transparent;\n",
              "      border-right-color: var(--fill-color);\n",
              "    }\n",
              "    80% {\n",
              "      border-color: transparent;\n",
              "      border-right-color: var(--fill-color);\n",
              "      border-bottom-color: var(--fill-color);\n",
              "    }\n",
              "    90% {\n",
              "      border-color: transparent;\n",
              "      border-bottom-color: var(--fill-color);\n",
              "    }\n",
              "  }\n",
              "</style>\n",
              "\n",
              "  <script>\n",
              "    async function quickchart(key) {\n",
              "      const quickchartButtonEl =\n",
              "        document.querySelector('#' + key + ' button');\n",
              "      quickchartButtonEl.disabled = true;  // To prevent multiple clicks.\n",
              "      quickchartButtonEl.classList.add('colab-df-spinner');\n",
              "      try {\n",
              "        const charts = await google.colab.kernel.invokeFunction(\n",
              "            'suggestCharts', [key], {});\n",
              "      } catch (error) {\n",
              "        console.error('Error during call to suggestCharts:', error);\n",
              "      }\n",
              "      quickchartButtonEl.classList.remove('colab-df-spinner');\n",
              "      quickchartButtonEl.classList.add('colab-df-quickchart-complete');\n",
              "    }\n",
              "    (() => {\n",
              "      let quickchartButtonEl =\n",
              "        document.querySelector('#df-685e5f2c-9612-449d-9065-29213132a4fe button');\n",
              "      quickchartButtonEl.style.display =\n",
              "        google.colab.kernel.accessAllowed ? 'block' : 'none';\n",
              "    })();\n",
              "  </script>\n",
              "</div>\n",
              "    </div>\n",
              "  </div>\n"
            ]
          },
          "metadata": {},
          "execution_count": 452
        }
      ]
    },
    {
      "cell_type": "code",
      "source": [
        "X = data.iloc[:, :-1].values\n",
        "y = data.iloc[:, -1].values"
      ],
      "metadata": {
        "id": "1fGii2lXcjpk"
      },
      "execution_count": 453,
      "outputs": []
    },
    {
      "cell_type": "code",
      "source": [
        "print(y.shape)"
      ],
      "metadata": {
        "colab": {
          "base_uri": "https://localhost:8080/"
        },
        "id": "Y1-CevMWeaYL",
        "outputId": "5c025f4b-1318-46d1-a1d9-892fc8bbe969"
      },
      "execution_count": 454,
      "outputs": [
        {
          "output_type": "stream",
          "name": "stdout",
          "text": [
            "(150,)\n"
          ]
        }
      ]
    },
    {
      "cell_type": "code",
      "source": [
        "from sklearn.preprocessing import LabelEncoder\n",
        "encoder = LabelEncoder()\n",
        "y = encoder.fit_transform(y)"
      ],
      "metadata": {
        "id": "kCTWmXx2c4OF"
      },
      "execution_count": 455,
      "outputs": []
    },
    {
      "cell_type": "code",
      "source": [
        "print(y)"
      ],
      "metadata": {
        "colab": {
          "base_uri": "https://localhost:8080/"
        },
        "id": "s_GEWtIlelGE",
        "outputId": "8d71f70c-931d-4a76-cc14-a281b92502e4"
      },
      "execution_count": 456,
      "outputs": [
        {
          "output_type": "stream",
          "name": "stdout",
          "text": [
            "[0 0 0 0 0 0 0 0 0 0 0 0 0 0 0 0 0 0 0 0 0 0 0 0 0 0 0 0 0 0 0 0 0 0 0 0 0\n",
            " 0 0 0 0 0 0 0 0 0 0 0 0 0 1 1 1 1 1 1 1 1 1 1 1 1 1 1 1 1 1 1 1 1 1 1 1 1\n",
            " 1 1 1 1 1 1 1 1 1 1 1 1 1 1 1 1 1 1 1 1 1 1 1 1 1 1 2 2 2 2 2 2 2 2 2 2 2\n",
            " 2 2 2 2 2 2 2 2 2 2 2 2 2 2 2 2 2 2 2 2 2 2 2 2 2 2 2 2 2 2 2 2 2 2 2 2 2\n",
            " 2 2]\n"
          ]
        }
      ]
    },
    {
      "cell_type": "code",
      "source": [
        "print(X[:, 3].max())"
      ],
      "metadata": {
        "colab": {
          "base_uri": "https://localhost:8080/"
        },
        "id": "BMD5V8qHijNz",
        "outputId": "4ebce9ad-7148-4b37-e05d-5b2a591b3810"
      },
      "execution_count": 457,
      "outputs": [
        {
          "output_type": "stream",
          "name": "stdout",
          "text": [
            "2.5\n"
          ]
        }
      ]
    },
    {
      "cell_type": "code",
      "source": [
        "from sklearn.model_selection import train_test_split\n",
        "X_train, X_test, y_train, y_test = train_test_split(X, y, test_size=0.25, random_state=1)"
      ],
      "metadata": {
        "id": "FVyK-8OFi-DZ"
      },
      "execution_count": 458,
      "outputs": []
    },
    {
      "cell_type": "code",
      "source": [
        "from sklearn.preprocessing import StandardScaler\n",
        "sc = StandardScaler()\n",
        "X_train[:, :] = sc.fit_transform(X_train[:, :])\n",
        "X_test[:, :] = sc.transform(X_test[:, :])"
      ],
      "metadata": {
        "id": "zy7uvRupjS5G"
      },
      "execution_count": 459,
      "outputs": []
    },
    {
      "cell_type": "code",
      "source": [
        "print(X_train)"
      ],
      "metadata": {
        "colab": {
          "base_uri": "https://localhost:8080/"
        },
        "id": "1cdM3Fubjph8",
        "outputId": "f16e72d1-4f83-4f72-e325-827da76febda"
      },
      "execution_count": 460,
      "outputs": [
        {
          "output_type": "stream",
          "name": "stdout",
          "text": [
            "[[ 8.03473255e-01 -5.32605965e-01  4.54251771e-01  3.80020799e-01]\n",
            " [ 1.04344393e+00 -1.25712258e+00  1.13184820e+00  7.69310398e-01]\n",
            " [ 1.16342927e+00 -4.95948874e-02  9.62449091e-01  1.15860000e+00]\n",
            " [-8.76321497e-01  1.15793281e+00 -1.35267203e+00 -1.17713760e+00]\n",
            " [ 2.03546558e-01 -1.98163920e+00  6.80117246e-01  3.80020799e-01]\n",
            " [ 5.63502576e-01 -2.91100426e-01  1.01891546e+00  7.69310398e-01]\n",
            " [ 9.23458594e-01 -2.91100426e-01  4.54251771e-01  1.20494400e-01]\n",
            " [ 2.24329733e+00 -1.01561704e+00  1.75297825e+00  1.41812640e+00]\n",
            " [-1.56409460e-01  1.88244942e+00 -1.18327293e+00 -1.17713760e+00]\n",
            " [-9.96306836e-01  1.39943835e+00 -1.35267203e+00 -1.30690080e+00]\n",
            " [-1.23627752e+00 -4.95948874e-02 -1.35267203e+00 -1.17713760e+00]\n",
            " [-7.56336157e-01 -7.74111504e-01  5.89871889e-02  2.50257599e-01]\n",
            " [-8.76321497e-01  9.16427268e-01 -1.29620566e+00 -1.30690080e+00]\n",
            " [-3.96380139e-01  1.15793281e+00 -1.40913840e+00 -1.30690080e+00]\n",
            " [ 2.24329733e+00  1.88244942e+00  1.64004552e+00  1.28836320e+00]\n",
            " [ 1.28341461e+00  1.91910651e-01  9.05982722e-01  1.15860000e+00]\n",
            " [ 1.76335597e+00 -2.91100426e-01  1.41418004e+00  7.69310398e-01]\n",
            " [ 6.83487916e-01 -5.32605965e-01  1.01891546e+00  1.28836320e+00]\n",
            " [ 4.43517237e-01 -5.32605965e-01  5.67184509e-01  7.69310398e-01]\n",
            " [ 2.03546558e-01  9.16427268e-01  3.97785402e-01  5.09783998e-01]\n",
            " [ 2.24329733e+00 -5.32605965e-01  1.64004552e+00  1.02883680e+00]\n",
            " [-1.56409460e-01 -4.95948874e-02  2.28386296e-01 -9.26879997e-03]\n",
            " [-1.23627752e+00  9.16427268e-01 -1.23973930e+00 -1.30690080e+00]\n",
            " [-1.56409460e-01 -1.25712258e+00  6.80117246e-01  1.02883680e+00]\n",
            " [ 5.63502576e-01 -7.74111504e-01  6.23650878e-01  7.69310398e-01]\n",
            " [-1.23627752e+00 -4.95948874e-02 -1.35267203e+00 -1.43666400e+00]\n",
            " [-1.35626285e+00  4.33416190e-01 -1.40913840e+00 -1.30690080e+00]\n",
            " [ 8.03473255e-01 -4.95948874e-02  1.13184820e+00  1.28836320e+00]\n",
            " [-1.47624819e+00  9.16427268e-01 -1.35267203e+00 -1.17713760e+00]\n",
            " [ 3.23531897e-01 -4.95948874e-02  6.23650878e-01  7.69310398e-01]\n",
            " [ 8.03473255e-01  4.33416190e-01  7.36583615e-01  1.02883680e+00]\n",
            " [ 1.04344393e+00  1.91910651e-01  3.41319033e-01  2.50257599e-01]\n",
            " [-1.56409460e-01 -5.32605965e-01  3.97785402e-01  1.20494400e-01]\n",
            " [ 1.04344393e+00  6.74921729e-01  1.07538183e+00  1.67765279e+00]\n",
            " [ 2.03546558e-01 -4.95948874e-02  5.67184509e-01  7.69310398e-01]\n",
            " [-8.76321497e-01  1.88244942e+00 -1.23973930e+00 -1.30690080e+00]\n",
            " [ 2.03546558e-01 -1.98163920e+00  1.15453558e-01 -2.68795199e-01]\n",
            " [ 6.83487916e-01 -2.91100426e-01  2.84852664e-01  1.20494400e-01]\n",
            " [ 8.03473255e-01 -4.95948874e-02  9.62449091e-01  7.69310398e-01]\n",
            " [-9.96306836e-01 -1.74013366e+00 -2.79811024e-01 -2.68795199e-01]\n",
            " [ 5.63502576e-01  6.74921729e-01  1.24478094e+00  1.67765279e+00]\n",
            " [-3.96380139e-01 -1.25712258e+00  1.15453558e-01  1.20494400e-01]\n",
            " [-5.16365479e-01  1.64094388e+00 -1.29620566e+00 -1.30690080e+00]\n",
            " [-1.11629218e+00  1.91910651e-01 -1.29620566e+00 -1.43666400e+00]\n",
            " [-7.56336157e-01  2.60696604e+00 -1.29620566e+00 -1.43666400e+00]\n",
            " [ 1.04344393e+00  6.74921729e-01  1.07538183e+00  1.15860000e+00]\n",
            " [-1.71621887e+00 -4.95948874e-02 -1.40913840e+00 -1.30690080e+00]\n",
            " [ 2.03546558e-01 -7.74111504e-01  7.36583615e-01  5.09783998e-01]\n",
            " [ 6.83487916e-01 -7.74111504e-01  8.49516353e-01  8.99073597e-01]\n",
            " [ 8.35612185e-02 -4.95948874e-02  7.36583615e-01  7.69310398e-01]\n",
            " [-7.56336157e-01  1.15793281e+00 -1.29620566e+00 -1.30690080e+00]\n",
            " [-8.76321497e-01  6.74921729e-01 -1.18327293e+00 -9.17611197e-01]\n",
            " [-3.64241209e-02 -7.74111504e-01  1.71919927e-01 -2.68795199e-01]\n",
            " [-1.11629218e+00  1.91910651e-01 -1.29620566e+00 -1.43666400e+00]\n",
            " [ 1.88334131e+00 -5.32605965e-01  1.30124730e+00  8.99073597e-01]\n",
            " [ 4.43517237e-01 -2.91100426e-01  2.84852664e-01  1.20494400e-01]\n",
            " [ 2.12331199e+00 -4.95948874e-02  1.58357915e+00  1.15860000e+00]\n",
            " [ 1.04344393e+00 -4.95948874e-02  7.93049984e-01  1.41812640e+00]\n",
            " [ 5.63502576e-01 -1.74013366e+00  3.41319033e-01  1.20494400e-01]\n",
            " [ 4.43517237e-01  9.16427268e-01  9.05982722e-01  1.41812640e+00]\n",
            " [ 1.64337063e+00  1.39943835e+00  1.30124730e+00  1.67765279e+00]\n",
            " [-2.76394800e-01 -2.91100426e-01 -1.10411918e-01  1.20494400e-01]\n",
            " [-1.56409460e-01  3.33148266e+00 -1.29620566e+00 -1.04737440e+00]\n",
            " [-3.64241209e-02 -7.74111504e-01  5.89871889e-02 -9.26879997e-03]\n",
            " [-1.59623353e+00 -1.74013366e+00 -1.40913840e+00 -1.17713760e+00]\n",
            " [-3.96380139e-01 -1.49862812e+00  2.52082004e-03 -1.39032000e-01]\n",
            " [ 1.28341461e+00  1.91910651e-01  6.23650878e-01  3.80020799e-01]\n",
            " [-9.96306836e-01  9.16427268e-01 -1.23973930e+00 -1.04737440e+00]\n",
            " [ 1.16342927e+00 -5.32605965e-01  5.67184509e-01  2.50257599e-01]\n",
            " [-9.96306836e-01  1.15793281e+00 -1.23973930e+00 -7.87847998e-01]\n",
            " [-1.23627752e+00  9.16427268e-01 -1.07034019e+00 -1.30690080e+00]\n",
            " [ 5.63502576e-01  9.16427268e-01  1.01891546e+00  1.54788960e+00]\n",
            " [-2.76394800e-01 -5.32605965e-01  6.23650878e-01  1.02883680e+00]\n",
            " [ 1.16342927e+00  4.33416190e-01  1.18831457e+00  1.41812640e+00]\n",
            " [-9.96306836e-01  6.74921729e-01 -1.35267203e+00 -1.30690080e+00]\n",
            " [-8.76321497e-01  1.64094388e+00 -1.29620566e+00 -1.04737440e+00]\n",
            " [ 8.35612185e-02  4.33416190e-01  5.67184509e-01  7.69310398e-01]\n",
            " [-1.47624819e+00  1.91910651e-01 -1.29620566e+00 -1.30690080e+00]\n",
            " [-3.64241209e-02 -7.74111504e-01  7.36583615e-01  8.99073597e-01]\n",
            " [-1.23627752e+00  1.91910651e-01 -1.23973930e+00 -1.30690080e+00]\n",
            " [ 8.03473255e-01 -4.95948874e-02  7.93049984e-01  1.02883680e+00]\n",
            " [-1.11629218e+00 -1.25712258e+00  3.97785402e-01  6.39547198e-01]\n",
            " [-1.47624819e+00  4.33416190e-01 -1.35267203e+00 -1.30690080e+00]\n",
            " [ 6.83487916e-01  4.33416190e-01  8.49516353e-01  1.41812640e+00]\n",
            " [-1.83620421e+00 -4.95948874e-02 -1.52207114e+00 -1.43666400e+00]\n",
            " [-2.76394800e-01 -4.95948874e-02  1.71919927e-01  1.20494400e-01]\n",
            " [-1.71621887e+00 -2.91100426e-01 -1.35267203e+00 -1.30690080e+00]\n",
            " [-3.96380139e-01 -1.49862812e+00 -5.39455488e-02 -2.68795199e-01]\n",
            " [-9.96306836e-01 -2.46465028e+00 -1.66878287e-01 -2.68795199e-01]\n",
            " [-8.76321497e-01  1.15793281e+00 -1.35267203e+00 -1.30690080e+00]\n",
            " [-1.11629218e+00 -4.95948874e-02 -1.35267203e+00 -1.30690080e+00]\n",
            " [-1.11629218e+00 -1.49862812e+00 -2.79811024e-01 -2.68795199e-01]\n",
            " [-1.47624819e+00  1.39943835e+00 -1.57853751e+00 -1.30690080e+00]\n",
            " [ 8.35612185e-02 -4.95948874e-02  2.28386296e-01  3.80020799e-01]\n",
            " [ 3.23531897e-01 -2.91100426e-01  5.10718140e-01  2.50257599e-01]\n",
            " [-9.96306836e-01  9.16427268e-01 -1.29620566e+00 -1.30690080e+00]\n",
            " [ 1.04344393e+00  1.91910651e-01  5.10718140e-01  3.80020799e-01]\n",
            " [-1.56409460e-01 -2.91100426e-01  2.28386296e-01  1.20494400e-01]\n",
            " [ 4.43517237e-01 -1.98163920e+00  3.97785402e-01  3.80020799e-01]\n",
            " [ 1.40339995e+00  4.33416190e-01  5.10718140e-01  2.50257599e-01]\n",
            " [-3.64241209e-02 -7.74111504e-01  7.36583615e-01  8.99073597e-01]\n",
            " [-5.16365479e-01  9.16427268e-01 -1.18327293e+00 -1.30690080e+00]\n",
            " [-9.96306836e-01 -4.95948874e-02 -1.23973930e+00 -1.30690080e+00]\n",
            " [ 3.23531897e-01 -1.01561704e+00  1.01891546e+00  2.50257599e-01]\n",
            " [ 3.23531897e-01 -5.32605965e-01  1.15453558e-01  1.20494400e-01]\n",
            " [ 1.64337063e+00 -4.95948874e-02  1.13184820e+00  5.09783998e-01]\n",
            " [-1.56409460e-01 -1.01561704e+00 -1.66878287e-01 -2.68795199e-01]\n",
            " [ 5.63502576e-01 -5.32605965e-01  7.36583615e-01  3.80020799e-01]\n",
            " [ 6.83487916e-01  1.91910651e-01  9.62449091e-01  7.69310398e-01]\n",
            " [ 5.63502576e-01 -1.25712258e+00  6.23650878e-01  3.80020799e-01]\n",
            " [ 1.04344393e+00  1.91910651e-01  1.01891546e+00  1.54788960e+00]\n",
            " [-1.11629218e+00  1.91910651e-01 -1.29620566e+00 -1.43666400e+00]]\n"
          ]
        }
      ]
    },
    {
      "cell_type": "code",
      "source": [
        "X_train.shape"
      ],
      "metadata": {
        "colab": {
          "base_uri": "https://localhost:8080/"
        },
        "id": "7-ZUcWuIkqgO",
        "outputId": "57dbb88b-92fc-4317-8ed8-9cd18a0d0504"
      },
      "execution_count": 461,
      "outputs": [
        {
          "output_type": "execute_result",
          "data": {
            "text/plain": [
              "(112, 4)"
            ]
          },
          "metadata": {},
          "execution_count": 461
        }
      ]
    },
    {
      "cell_type": "code",
      "source": [
        "y_train.shape"
      ],
      "metadata": {
        "colab": {
          "base_uri": "https://localhost:8080/"
        },
        "id": "I5gqMuN5pCTm",
        "outputId": "1ce36bc9-f996-4950-e880-3d133be2411a"
      },
      "execution_count": 462,
      "outputs": [
        {
          "output_type": "execute_result",
          "data": {
            "text/plain": [
              "(112,)"
            ]
          },
          "metadata": {},
          "execution_count": 462
        }
      ]
    },
    {
      "cell_type": "code",
      "source": [
        "inputs_1 = keras.Input(shape=(4,), name=\"Iris Flower Features\")\n",
        "layer_1 = layers.Dense(32, activation=\"relu\", name=\"dense_layer_1\")(inputs_1)\n",
        "layer_2 = layers.Dense(32, activation=\"relu\", name=\"dense_layer_2\")(layer_1)\n",
        "outputs_1 = layers.Dense(3, activation=\"softmax\", name=\"output_layer\")(layer_2)"
      ],
      "metadata": {
        "id": "S79NTHFQjtsL"
      },
      "execution_count": 463,
      "outputs": []
    },
    {
      "cell_type": "code",
      "source": [
        "model = keras.Model(inputs=inputs_1, outputs=outputs_1, name=\"iris_model\")"
      ],
      "metadata": {
        "id": "9vvBxicZjwUL"
      },
      "execution_count": 464,
      "outputs": []
    },
    {
      "cell_type": "code",
      "source": [
        "model.compile(\n",
        "    optimizer=keras.optimizers.Adam(),\n",
        "    loss=keras.losses.SparseCategoricalCrossentropy(),\n",
        "    metrics=[keras.metrics.SparseCategoricalAccuracy()]\n",
        ")"
      ],
      "metadata": {
        "id": "h2rcdGOplbc8"
      },
      "execution_count": 465,
      "outputs": []
    },
    {
      "cell_type": "code",
      "source": [
        "model.summary()"
      ],
      "metadata": {
        "colab": {
          "base_uri": "https://localhost:8080/"
        },
        "id": "yiiAlectpu-C",
        "outputId": "8a24f8f9-7e41-48c1-9100-624d03ae5c85"
      },
      "execution_count": 466,
      "outputs": [
        {
          "output_type": "stream",
          "name": "stdout",
          "text": [
            "Model: \"iris_model\"\n",
            "_________________________________________________________________\n",
            " Layer (type)                Output Shape              Param #   \n",
            "=================================================================\n",
            " Iris Flower Features (Inpu  [(None, 4)]               0         \n",
            " tLayer)                                                         \n",
            "                                                                 \n",
            " dense_layer_1 (Dense)       (None, 32)                160       \n",
            "                                                                 \n",
            " dense_layer_2 (Dense)       (None, 32)                1056      \n",
            "                                                                 \n",
            " output_layer (Dense)        (None, 3)                 99        \n",
            "                                                                 \n",
            "=================================================================\n",
            "Total params: 1315 (5.14 KB)\n",
            "Trainable params: 1315 (5.14 KB)\n",
            "Non-trainable params: 0 (0.00 Byte)\n",
            "_________________________________________________________________\n"
          ]
        }
      ]
    },
    {
      "cell_type": "code",
      "source": [
        "print(\"Fit the model on the training data\")\n",
        "history=model.fit(\n",
        "    X_train,\n",
        "    y_train,\n",
        "    batch_size=32,\n",
        "    epochs=100,\n",
        ")"
      ],
      "metadata": {
        "colab": {
          "base_uri": "https://localhost:8080/"
        },
        "id": "QdEiE5_DjwfL",
        "outputId": "c892d4a8-2a96-4698-a562-621f63045acd"
      },
      "execution_count": 467,
      "outputs": [
        {
          "output_type": "stream",
          "name": "stdout",
          "text": [
            "Fit the model on the training data\n",
            "Epoch 1/100\n",
            "4/4 [==============================] - 1s 5ms/step - loss: 1.0692 - sparse_categorical_accuracy: 0.4196\n",
            "Epoch 2/100\n",
            "4/4 [==============================] - 0s 3ms/step - loss: 1.0091 - sparse_categorical_accuracy: 0.5268\n",
            "Epoch 3/100\n",
            "4/4 [==============================] - 0s 3ms/step - loss: 0.9529 - sparse_categorical_accuracy: 0.5982\n",
            "Epoch 4/100\n",
            "4/4 [==============================] - 0s 4ms/step - loss: 0.9026 - sparse_categorical_accuracy: 0.6696\n",
            "Epoch 5/100\n",
            "4/4 [==============================] - 0s 3ms/step - loss: 0.8568 - sparse_categorical_accuracy: 0.7411\n",
            "Epoch 6/100\n",
            "4/4 [==============================] - 0s 4ms/step - loss: 0.8111 - sparse_categorical_accuracy: 0.7679\n",
            "Epoch 7/100\n",
            "4/4 [==============================] - 0s 3ms/step - loss: 0.7688 - sparse_categorical_accuracy: 0.7768\n",
            "Epoch 8/100\n",
            "4/4 [==============================] - 0s 4ms/step - loss: 0.7280 - sparse_categorical_accuracy: 0.7768\n",
            "Epoch 9/100\n",
            "4/4 [==============================] - 0s 4ms/step - loss: 0.6874 - sparse_categorical_accuracy: 0.7857\n",
            "Epoch 10/100\n",
            "4/4 [==============================] - 0s 4ms/step - loss: 0.6488 - sparse_categorical_accuracy: 0.7857\n",
            "Epoch 11/100\n",
            "4/4 [==============================] - 0s 4ms/step - loss: 0.6114 - sparse_categorical_accuracy: 0.8125\n",
            "Epoch 12/100\n",
            "4/4 [==============================] - 0s 5ms/step - loss: 0.5776 - sparse_categorical_accuracy: 0.8125\n",
            "Epoch 13/100\n",
            "4/4 [==============================] - 0s 3ms/step - loss: 0.5446 - sparse_categorical_accuracy: 0.8214\n",
            "Epoch 14/100\n",
            "4/4 [==============================] - 0s 4ms/step - loss: 0.5147 - sparse_categorical_accuracy: 0.8304\n",
            "Epoch 15/100\n",
            "4/4 [==============================] - 0s 4ms/step - loss: 0.4876 - sparse_categorical_accuracy: 0.8304\n",
            "Epoch 16/100\n",
            "4/4 [==============================] - 0s 5ms/step - loss: 0.4624 - sparse_categorical_accuracy: 0.8304\n",
            "Epoch 17/100\n",
            "4/4 [==============================] - 0s 4ms/step - loss: 0.4400 - sparse_categorical_accuracy: 0.8304\n",
            "Epoch 18/100\n",
            "4/4 [==============================] - 0s 4ms/step - loss: 0.4187 - sparse_categorical_accuracy: 0.8393\n",
            "Epoch 19/100\n",
            "4/4 [==============================] - 0s 4ms/step - loss: 0.4000 - sparse_categorical_accuracy: 0.8482\n",
            "Epoch 20/100\n",
            "4/4 [==============================] - 0s 4ms/step - loss: 0.3822 - sparse_categorical_accuracy: 0.8571\n",
            "Epoch 21/100\n",
            "4/4 [==============================] - 0s 4ms/step - loss: 0.3652 - sparse_categorical_accuracy: 0.8750\n",
            "Epoch 22/100\n",
            "4/4 [==============================] - 0s 4ms/step - loss: 0.3511 - sparse_categorical_accuracy: 0.8750\n",
            "Epoch 23/100\n",
            "4/4 [==============================] - 0s 4ms/step - loss: 0.3365 - sparse_categorical_accuracy: 0.8839\n",
            "Epoch 24/100\n",
            "4/4 [==============================] - 0s 4ms/step - loss: 0.3243 - sparse_categorical_accuracy: 0.8929\n",
            "Epoch 25/100\n",
            "4/4 [==============================] - 0s 4ms/step - loss: 0.3108 - sparse_categorical_accuracy: 0.8929\n",
            "Epoch 26/100\n",
            "4/4 [==============================] - 0s 4ms/step - loss: 0.2993 - sparse_categorical_accuracy: 0.8929\n",
            "Epoch 27/100\n",
            "4/4 [==============================] - 0s 4ms/step - loss: 0.2884 - sparse_categorical_accuracy: 0.8929\n",
            "Epoch 28/100\n",
            "4/4 [==============================] - 0s 4ms/step - loss: 0.2782 - sparse_categorical_accuracy: 0.8929\n",
            "Epoch 29/100\n",
            "4/4 [==============================] - 0s 6ms/step - loss: 0.2688 - sparse_categorical_accuracy: 0.9107\n",
            "Epoch 30/100\n",
            "4/4 [==============================] - 0s 4ms/step - loss: 0.2595 - sparse_categorical_accuracy: 0.9196\n",
            "Epoch 31/100\n",
            "4/4 [==============================] - 0s 4ms/step - loss: 0.2509 - sparse_categorical_accuracy: 0.9196\n",
            "Epoch 32/100\n",
            "4/4 [==============================] - 0s 3ms/step - loss: 0.2427 - sparse_categorical_accuracy: 0.9196\n",
            "Epoch 33/100\n",
            "4/4 [==============================] - 0s 3ms/step - loss: 0.2354 - sparse_categorical_accuracy: 0.9196\n",
            "Epoch 34/100\n",
            "4/4 [==============================] - 0s 5ms/step - loss: 0.2274 - sparse_categorical_accuracy: 0.9196\n",
            "Epoch 35/100\n",
            "4/4 [==============================] - 0s 4ms/step - loss: 0.2205 - sparse_categorical_accuracy: 0.9196\n",
            "Epoch 36/100\n",
            "4/4 [==============================] - 0s 4ms/step - loss: 0.2143 - sparse_categorical_accuracy: 0.9286\n",
            "Epoch 37/100\n",
            "4/4 [==============================] - 0s 4ms/step - loss: 0.2073 - sparse_categorical_accuracy: 0.9286\n",
            "Epoch 38/100\n",
            "4/4 [==============================] - 0s 5ms/step - loss: 0.2015 - sparse_categorical_accuracy: 0.9375\n",
            "Epoch 39/100\n",
            "4/4 [==============================] - 0s 4ms/step - loss: 0.1954 - sparse_categorical_accuracy: 0.9464\n",
            "Epoch 40/100\n",
            "4/4 [==============================] - 0s 4ms/step - loss: 0.1899 - sparse_categorical_accuracy: 0.9554\n",
            "Epoch 41/100\n",
            "4/4 [==============================] - 0s 4ms/step - loss: 0.1841 - sparse_categorical_accuracy: 0.9554\n",
            "Epoch 42/100\n",
            "4/4 [==============================] - 0s 4ms/step - loss: 0.1788 - sparse_categorical_accuracy: 0.9554\n",
            "Epoch 43/100\n",
            "4/4 [==============================] - 0s 4ms/step - loss: 0.1738 - sparse_categorical_accuracy: 0.9554\n",
            "Epoch 44/100\n",
            "4/4 [==============================] - 0s 3ms/step - loss: 0.1685 - sparse_categorical_accuracy: 0.9732\n",
            "Epoch 45/100\n",
            "4/4 [==============================] - 0s 4ms/step - loss: 0.1636 - sparse_categorical_accuracy: 0.9732\n",
            "Epoch 46/100\n",
            "4/4 [==============================] - 0s 4ms/step - loss: 0.1592 - sparse_categorical_accuracy: 0.9732\n",
            "Epoch 47/100\n",
            "4/4 [==============================] - 0s 4ms/step - loss: 0.1546 - sparse_categorical_accuracy: 0.9732\n",
            "Epoch 48/100\n",
            "4/4 [==============================] - 0s 4ms/step - loss: 0.1507 - sparse_categorical_accuracy: 0.9732\n",
            "Epoch 49/100\n",
            "4/4 [==============================] - 0s 4ms/step - loss: 0.1465 - sparse_categorical_accuracy: 0.9732\n",
            "Epoch 50/100\n",
            "4/4 [==============================] - 0s 4ms/step - loss: 0.1425 - sparse_categorical_accuracy: 0.9732\n",
            "Epoch 51/100\n",
            "4/4 [==============================] - 0s 4ms/step - loss: 0.1389 - sparse_categorical_accuracy: 0.9732\n",
            "Epoch 52/100\n",
            "4/4 [==============================] - 0s 4ms/step - loss: 0.1353 - sparse_categorical_accuracy: 0.9732\n",
            "Epoch 53/100\n",
            "4/4 [==============================] - 0s 3ms/step - loss: 0.1325 - sparse_categorical_accuracy: 0.9732\n",
            "Epoch 54/100\n",
            "4/4 [==============================] - 0s 4ms/step - loss: 0.1289 - sparse_categorical_accuracy: 0.9732\n",
            "Epoch 55/100\n",
            "4/4 [==============================] - 0s 5ms/step - loss: 0.1265 - sparse_categorical_accuracy: 0.9732\n",
            "Epoch 56/100\n",
            "4/4 [==============================] - 0s 4ms/step - loss: 0.1235 - sparse_categorical_accuracy: 0.9732\n",
            "Epoch 57/100\n",
            "4/4 [==============================] - 0s 4ms/step - loss: 0.1211 - sparse_categorical_accuracy: 0.9732\n",
            "Epoch 58/100\n",
            "4/4 [==============================] - 0s 4ms/step - loss: 0.1180 - sparse_categorical_accuracy: 0.9732\n",
            "Epoch 59/100\n",
            "4/4 [==============================] - 0s 3ms/step - loss: 0.1155 - sparse_categorical_accuracy: 0.9732\n",
            "Epoch 60/100\n",
            "4/4 [==============================] - 0s 4ms/step - loss: 0.1140 - sparse_categorical_accuracy: 0.9732\n",
            "Epoch 61/100\n",
            "4/4 [==============================] - 0s 4ms/step - loss: 0.1109 - sparse_categorical_accuracy: 0.9732\n",
            "Epoch 62/100\n",
            "4/4 [==============================] - 0s 4ms/step - loss: 0.1086 - sparse_categorical_accuracy: 0.9732\n",
            "Epoch 63/100\n",
            "4/4 [==============================] - 0s 5ms/step - loss: 0.1069 - sparse_categorical_accuracy: 0.9732\n",
            "Epoch 64/100\n",
            "4/4 [==============================] - 0s 4ms/step - loss: 0.1047 - sparse_categorical_accuracy: 0.9732\n",
            "Epoch 65/100\n",
            "4/4 [==============================] - 0s 4ms/step - loss: 0.1029 - sparse_categorical_accuracy: 0.9732\n",
            "Epoch 66/100\n",
            "4/4 [==============================] - 0s 3ms/step - loss: 0.1011 - sparse_categorical_accuracy: 0.9732\n",
            "Epoch 67/100\n",
            "4/4 [==============================] - 0s 3ms/step - loss: 0.0996 - sparse_categorical_accuracy: 0.9732\n",
            "Epoch 68/100\n",
            "4/4 [==============================] - 0s 3ms/step - loss: 0.0977 - sparse_categorical_accuracy: 0.9732\n",
            "Epoch 69/100\n",
            "4/4 [==============================] - 0s 3ms/step - loss: 0.0962 - sparse_categorical_accuracy: 0.9732\n",
            "Epoch 70/100\n",
            "4/4 [==============================] - 0s 4ms/step - loss: 0.0942 - sparse_categorical_accuracy: 0.9732\n",
            "Epoch 71/100\n",
            "4/4 [==============================] - 0s 5ms/step - loss: 0.0926 - sparse_categorical_accuracy: 0.9732\n",
            "Epoch 72/100\n",
            "4/4 [==============================] - 0s 3ms/step - loss: 0.0917 - sparse_categorical_accuracy: 0.9732\n",
            "Epoch 73/100\n",
            "4/4 [==============================] - 0s 4ms/step - loss: 0.0899 - sparse_categorical_accuracy: 0.9732\n",
            "Epoch 74/100\n",
            "4/4 [==============================] - 0s 4ms/step - loss: 0.0889 - sparse_categorical_accuracy: 0.9732\n",
            "Epoch 75/100\n",
            "4/4 [==============================] - 0s 4ms/step - loss: 0.0873 - sparse_categorical_accuracy: 0.9732\n",
            "Epoch 76/100\n",
            "4/4 [==============================] - 0s 3ms/step - loss: 0.0861 - sparse_categorical_accuracy: 0.9732\n",
            "Epoch 77/100\n",
            "4/4 [==============================] - 0s 4ms/step - loss: 0.0852 - sparse_categorical_accuracy: 0.9732\n",
            "Epoch 78/100\n",
            "4/4 [==============================] - 0s 5ms/step - loss: 0.0842 - sparse_categorical_accuracy: 0.9732\n",
            "Epoch 79/100\n",
            "4/4 [==============================] - 0s 4ms/step - loss: 0.0828 - sparse_categorical_accuracy: 0.9732\n",
            "Epoch 80/100\n",
            "4/4 [==============================] - 0s 4ms/step - loss: 0.0821 - sparse_categorical_accuracy: 0.9732\n",
            "Epoch 81/100\n",
            "4/4 [==============================] - 0s 4ms/step - loss: 0.0804 - sparse_categorical_accuracy: 0.9732\n",
            "Epoch 82/100\n",
            "4/4 [==============================] - 0s 4ms/step - loss: 0.0794 - sparse_categorical_accuracy: 0.9732\n",
            "Epoch 83/100\n",
            "4/4 [==============================] - 0s 5ms/step - loss: 0.0791 - sparse_categorical_accuracy: 0.9732\n",
            "Epoch 84/100\n",
            "4/4 [==============================] - 0s 4ms/step - loss: 0.0787 - sparse_categorical_accuracy: 0.9732\n",
            "Epoch 85/100\n",
            "4/4 [==============================] - 0s 3ms/step - loss: 0.0773 - sparse_categorical_accuracy: 0.9732\n",
            "Epoch 86/100\n",
            "4/4 [==============================] - 0s 4ms/step - loss: 0.0769 - sparse_categorical_accuracy: 0.9732\n",
            "Epoch 87/100\n",
            "4/4 [==============================] - 0s 4ms/step - loss: 0.0761 - sparse_categorical_accuracy: 0.9732\n",
            "Epoch 88/100\n",
            "4/4 [==============================] - 0s 4ms/step - loss: 0.0752 - sparse_categorical_accuracy: 0.9732\n",
            "Epoch 89/100\n",
            "4/4 [==============================] - 0s 4ms/step - loss: 0.0750 - sparse_categorical_accuracy: 0.9732\n",
            "Epoch 90/100\n",
            "4/4 [==============================] - 0s 4ms/step - loss: 0.0732 - sparse_categorical_accuracy: 0.9821\n",
            "Epoch 91/100\n",
            "4/4 [==============================] - 0s 4ms/step - loss: 0.0725 - sparse_categorical_accuracy: 0.9821\n",
            "Epoch 92/100\n",
            "4/4 [==============================] - 0s 3ms/step - loss: 0.0723 - sparse_categorical_accuracy: 0.9821\n",
            "Epoch 93/100\n",
            "4/4 [==============================] - 0s 4ms/step - loss: 0.0717 - sparse_categorical_accuracy: 0.9821\n",
            "Epoch 94/100\n",
            "4/4 [==============================] - 0s 4ms/step - loss: 0.0707 - sparse_categorical_accuracy: 0.9821\n",
            "Epoch 95/100\n",
            "4/4 [==============================] - 0s 4ms/step - loss: 0.0699 - sparse_categorical_accuracy: 0.9821\n",
            "Epoch 96/100\n",
            "4/4 [==============================] - 0s 4ms/step - loss: 0.0695 - sparse_categorical_accuracy: 0.9732\n",
            "Epoch 97/100\n",
            "4/4 [==============================] - 0s 4ms/step - loss: 0.0692 - sparse_categorical_accuracy: 0.9732\n",
            "Epoch 98/100\n",
            "4/4 [==============================] - 0s 4ms/step - loss: 0.0683 - sparse_categorical_accuracy: 0.9821\n",
            "Epoch 99/100\n",
            "4/4 [==============================] - 0s 4ms/step - loss: 0.0674 - sparse_categorical_accuracy: 0.9732\n",
            "Epoch 100/100\n",
            "4/4 [==============================] - 0s 3ms/step - loss: 0.0670 - sparse_categorical_accuracy: 0.9732\n"
          ]
        }
      ]
    },
    {
      "cell_type": "code",
      "source": [
        "y_pred = model.predict(X_test)\n",
        "y_pred = (y_pred > 0.5)"
      ],
      "metadata": {
        "colab": {
          "base_uri": "https://localhost:8080/"
        },
        "id": "duwguK4jmAuN",
        "outputId": "59f42f5a-3847-4f50-9daf-8062edbcf27e"
      },
      "execution_count": 468,
      "outputs": [
        {
          "output_type": "stream",
          "name": "stderr",
          "text": [
            "WARNING:tensorflow:6 out of the last 11 calls to <function Model.make_predict_function.<locals>.predict_function at 0x7cb18163aef0> triggered tf.function retracing. Tracing is expensive and the excessive number of tracings could be due to (1) creating @tf.function repeatedly in a loop, (2) passing tensors with different shapes, (3) passing Python objects instead of tensors. For (1), please define your @tf.function outside of the loop. For (2), @tf.function has reduce_retracing=True option that can avoid unnecessary retracing. For (3), please refer to https://www.tensorflow.org/guide/function#controlling_retracing and https://www.tensorflow.org/api_docs/python/tf/function for  more details.\n"
          ]
        },
        {
          "output_type": "stream",
          "name": "stdout",
          "text": [
            "2/2 [==============================] - 0s 12ms/step\n"
          ]
        }
      ]
    },
    {
      "cell_type": "code",
      "source": [
        "test_scores = model.evaluate(X_test, y_test, verbose=2)\n",
        "print(\"Test loss:\", test_scores[0])\n",
        "print(\"Test accuracy:\", test_scores[1])"
      ],
      "metadata": {
        "colab": {
          "base_uri": "https://localhost:8080/"
        },
        "id": "PO91RZJiurUw",
        "outputId": "7d88b96d-c4d9-40df-c87d-80822d4a69e7"
      },
      "execution_count": 469,
      "outputs": [
        {
          "output_type": "stream",
          "name": "stdout",
          "text": [
            "2/2 - 0s - loss: 0.0742 - sparse_categorical_accuracy: 0.9737 - 130ms/epoch - 65ms/step\n",
            "Test loss: 0.07424193620681763\n",
            "Test accuracy: 0.9736841917037964\n"
          ]
        }
      ]
    },
    {
      "cell_type": "code",
      "source": [
        "from sklearn.metrics import accuracy_score, confusion_matrix\n",
        "#cm = confusion_matrix(y_test, y_pred)\n",
        "#acc = accuracy_score(y_test, y_pred)"
      ],
      "metadata": {
        "id": "XX-wLiEFmP1c"
      },
      "execution_count": 470,
      "outputs": []
    },
    {
      "cell_type": "code",
      "source": [
        "print(cm, \"\\n\", acc)"
      ],
      "metadata": {
        "colab": {
          "base_uri": "https://localhost:8080/"
        },
        "id": "UBSABMvQmce7",
        "outputId": "ca9643a9-0724-479e-8ab1-ecc6768009e2"
      },
      "execution_count": 471,
      "outputs": [
        {
          "output_type": "stream",
          "name": "stdout",
          "text": [
            "[[ 0 13  0]\n",
            " [ 0 16  0]\n",
            " [ 0  9  0]] \n",
            " 0.42105263157894735\n"
          ]
        }
      ]
    },
    {
      "cell_type": "code",
      "source": [
        "history.history"
      ],
      "metadata": {
        "colab": {
          "base_uri": "https://localhost:8080/"
        },
        "id": "Arj9X5-CmiTq",
        "outputId": "b8224e61-c4cb-428d-bca7-1efce81f14ff"
      },
      "execution_count": 472,
      "outputs": [
        {
          "output_type": "execute_result",
          "data": {
            "text/plain": [
              "{'loss': [1.0691890716552734,\n",
              "  1.0091429948806763,\n",
              "  0.9529035687446594,\n",
              "  0.9026259779930115,\n",
              "  0.8567857146263123,\n",
              "  0.8110736012458801,\n",
              "  0.7688270211219788,\n",
              "  0.7280394434928894,\n",
              "  0.6874478459358215,\n",
              "  0.6487794518470764,\n",
              "  0.6113678812980652,\n",
              "  0.5775793790817261,\n",
              "  0.5445592403411865,\n",
              "  0.5147168040275574,\n",
              "  0.4876019060611725,\n",
              "  0.46241050958633423,\n",
              "  0.4399625360965729,\n",
              "  0.41865602135658264,\n",
              "  0.399980753660202,\n",
              "  0.38220903277397156,\n",
              "  0.3652094900608063,\n",
              "  0.35105109214782715,\n",
              "  0.33651211857795715,\n",
              "  0.324262410402298,\n",
              "  0.310809850692749,\n",
              "  0.29934218525886536,\n",
              "  0.28838929533958435,\n",
              "  0.27824148535728455,\n",
              "  0.26879608631134033,\n",
              "  0.25948768854141235,\n",
              "  0.250887393951416,\n",
              "  0.24273011088371277,\n",
              "  0.23544715344905853,\n",
              "  0.2274360954761505,\n",
              "  0.2204979807138443,\n",
              "  0.21428142488002777,\n",
              "  0.20727451145648956,\n",
              "  0.20151852071285248,\n",
              "  0.19544151425361633,\n",
              "  0.1898881196975708,\n",
              "  0.18414516746997833,\n",
              "  0.17875602841377258,\n",
              "  0.17381569743156433,\n",
              "  0.1685003936290741,\n",
              "  0.16362345218658447,\n",
              "  0.15920118987560272,\n",
              "  0.1546168029308319,\n",
              "  0.15068355202674866,\n",
              "  0.14647479355335236,\n",
              "  0.14250342547893524,\n",
              "  0.1388603150844574,\n",
              "  0.13531167805194855,\n",
              "  0.13248203694820404,\n",
              "  0.12888747453689575,\n",
              "  0.12646104395389557,\n",
              "  0.12348006665706635,\n",
              "  0.12106988579034805,\n",
              "  0.11799214780330658,\n",
              "  0.11552740633487701,\n",
              "  0.1139817088842392,\n",
              "  0.11093013733625412,\n",
              "  0.1086273342370987,\n",
              "  0.10693778097629547,\n",
              "  0.10471455007791519,\n",
              "  0.10291241854429245,\n",
              "  0.10106179863214493,\n",
              "  0.09960376471281052,\n",
              "  0.09768828004598618,\n",
              "  0.09616422653198242,\n",
              "  0.09415880590677261,\n",
              "  0.09260562807321548,\n",
              "  0.09171099960803986,\n",
              "  0.08993563801050186,\n",
              "  0.08890018612146378,\n",
              "  0.0873013585805893,\n",
              "  0.0860537439584732,\n",
              "  0.08515165746212006,\n",
              "  0.08417781442403793,\n",
              "  0.08282129466533661,\n",
              "  0.08207547664642334,\n",
              "  0.08042352646589279,\n",
              "  0.07940811663866043,\n",
              "  0.07909160852432251,\n",
              "  0.07873167097568512,\n",
              "  0.07730551809072495,\n",
              "  0.07690083980560303,\n",
              "  0.07613922655582428,\n",
              "  0.07516845315694809,\n",
              "  0.07500208914279938,\n",
              "  0.0732169970870018,\n",
              "  0.07252468913793564,\n",
              "  0.07230253517627716,\n",
              "  0.07165928184986115,\n",
              "  0.07065638899803162,\n",
              "  0.06989909708499908,\n",
              "  0.0695377066731453,\n",
              "  0.069248266518116,\n",
              "  0.06831385940313339,\n",
              "  0.0673568993806839,\n",
              "  0.06700295954942703],\n",
              " 'sparse_categorical_accuracy': [0.4196428656578064,\n",
              "  0.5267857313156128,\n",
              "  0.5982142686843872,\n",
              "  0.6696428656578064,\n",
              "  0.7410714030265808,\n",
              "  0.7678571343421936,\n",
              "  0.7767857313156128,\n",
              "  0.7767857313156128,\n",
              "  0.7857142686843872,\n",
              "  0.7857142686843872,\n",
              "  0.8125,\n",
              "  0.8125,\n",
              "  0.8214285969734192,\n",
              "  0.8303571343421936,\n",
              "  0.8303571343421936,\n",
              "  0.8303571343421936,\n",
              "  0.8303571343421936,\n",
              "  0.8392857313156128,\n",
              "  0.8482142686843872,\n",
              "  0.8571428656578064,\n",
              "  0.875,\n",
              "  0.875,\n",
              "  0.8839285969734192,\n",
              "  0.8928571343421936,\n",
              "  0.8928571343421936,\n",
              "  0.8928571343421936,\n",
              "  0.8928571343421936,\n",
              "  0.8928571343421936,\n",
              "  0.9107142686843872,\n",
              "  0.9196428656578064,\n",
              "  0.9196428656578064,\n",
              "  0.9196428656578064,\n",
              "  0.9196428656578064,\n",
              "  0.9196428656578064,\n",
              "  0.9196428656578064,\n",
              "  0.9285714030265808,\n",
              "  0.9285714030265808,\n",
              "  0.9375,\n",
              "  0.9464285969734192,\n",
              "  0.9553571343421936,\n",
              "  0.9553571343421936,\n",
              "  0.9553571343421936,\n",
              "  0.9553571343421936,\n",
              "  0.9732142686843872,\n",
              "  0.9732142686843872,\n",
              "  0.9732142686843872,\n",
              "  0.9732142686843872,\n",
              "  0.9732142686843872,\n",
              "  0.9732142686843872,\n",
              "  0.9732142686843872,\n",
              "  0.9732142686843872,\n",
              "  0.9732142686843872,\n",
              "  0.9732142686843872,\n",
              "  0.9732142686843872,\n",
              "  0.9732142686843872,\n",
              "  0.9732142686843872,\n",
              "  0.9732142686843872,\n",
              "  0.9732142686843872,\n",
              "  0.9732142686843872,\n",
              "  0.9732142686843872,\n",
              "  0.9732142686843872,\n",
              "  0.9732142686843872,\n",
              "  0.9732142686843872,\n",
              "  0.9732142686843872,\n",
              "  0.9732142686843872,\n",
              "  0.9732142686843872,\n",
              "  0.9732142686843872,\n",
              "  0.9732142686843872,\n",
              "  0.9732142686843872,\n",
              "  0.9732142686843872,\n",
              "  0.9732142686843872,\n",
              "  0.9732142686843872,\n",
              "  0.9732142686843872,\n",
              "  0.9732142686843872,\n",
              "  0.9732142686843872,\n",
              "  0.9732142686843872,\n",
              "  0.9732142686843872,\n",
              "  0.9732142686843872,\n",
              "  0.9732142686843872,\n",
              "  0.9732142686843872,\n",
              "  0.9732142686843872,\n",
              "  0.9732142686843872,\n",
              "  0.9732142686843872,\n",
              "  0.9732142686843872,\n",
              "  0.9732142686843872,\n",
              "  0.9732142686843872,\n",
              "  0.9732142686843872,\n",
              "  0.9732142686843872,\n",
              "  0.9732142686843872,\n",
              "  0.9821428656578064,\n",
              "  0.9821428656578064,\n",
              "  0.9821428656578064,\n",
              "  0.9821428656578064,\n",
              "  0.9821428656578064,\n",
              "  0.9821428656578064,\n",
              "  0.9732142686843872,\n",
              "  0.9732142686843872,\n",
              "  0.9821428656578064,\n",
              "  0.9732142686843872,\n",
              "  0.9732142686843872]}"
            ]
          },
          "metadata": {},
          "execution_count": 472
        }
      ]
    },
    {
      "cell_type": "code",
      "source": [],
      "metadata": {
        "id": "iRh48kZxmkGr"
      },
      "execution_count": 472,
      "outputs": []
    }
  ]
}