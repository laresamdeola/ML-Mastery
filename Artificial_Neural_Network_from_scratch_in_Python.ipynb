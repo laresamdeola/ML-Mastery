{
  "nbformat": 4,
  "nbformat_minor": 0,
  "metadata": {
    "colab": {
      "provenance": [],
      "authorship_tag": "ABX9TyP4fuY++uoLOj3c04zKzEJk"
    },
    "kernelspec": {
      "name": "python3",
      "display_name": "Python 3"
    },
    "language_info": {
      "name": "python"
    }
  },
  "cells": [
    {
      "cell_type": "code",
      "execution_count": 100,
      "metadata": {
        "id": "geja7Hq2w-jS"
      },
      "outputs": [],
      "source": [
        "import numpy as np\n",
        "import math"
      ]
    },
    {
      "cell_type": "code",
      "source": [
        "inputs = np.array([1, 2, 3.5])\n",
        "weights = np.array([0.5, 0.5, 1.8])\n",
        "bias = np.array([0.0])\n",
        "layer_1 = 0\n",
        "target = 0"
      ],
      "metadata": {
        "id": "ua_r7GvhxFD7"
      },
      "execution_count": 101,
      "outputs": []
    },
    {
      "cell_type": "code",
      "source": [
        "def sigmoid(x):\n",
        "  return 1 / (1 + np.exp(-x))"
      ],
      "metadata": {
        "id": "NxybOMKCxTb5"
      },
      "execution_count": 102,
      "outputs": []
    },
    {
      "cell_type": "code",
      "source": [
        "def make_prediction(input_layer, weights_params, bias_params):\n",
        "  global layer_1\n",
        "  layer_1 = np.dot(inputs, weights) + bias\n",
        "  layer_2 = sigmoid(layer_1)\n",
        "  return layer_2"
      ],
      "metadata": {
        "id": "3u084-pTxegS"
      },
      "execution_count": 103,
      "outputs": []
    },
    {
      "cell_type": "code",
      "source": [
        "# Mean Square Error is square root of prediction less target"
      ],
      "metadata": {
        "id": "TThIQjhd0KDQ"
      },
      "execution_count": 104,
      "outputs": []
    },
    {
      "cell_type": "code",
      "source": [
        "prediction = make_prediction(inputs, weights, bias)"
      ],
      "metadata": {
        "id": "xS--cdxR2oCR"
      },
      "execution_count": 105,
      "outputs": []
    },
    {
      "cell_type": "code",
      "source": [
        "mse = np.square(prediction - target)\n",
        "derivative = 2 * mse\n",
        "weights = weights - derivative"
      ],
      "metadata": {
        "id": "uB7ImSKc27j3"
      },
      "execution_count": 106,
      "outputs": []
    },
    {
      "cell_type": "code",
      "source": [
        "print(f\"Prediction is: {prediction}, Mean Squared Error is: {mse}\")"
      ],
      "metadata": {
        "colab": {
          "base_uri": "https://localhost:8080/"
        },
        "id": "H8DhU0Sd2Lc-",
        "outputId": "76254363-182b-4a7c-edc7-e35247fc020b"
      },
      "execution_count": 107,
      "outputs": [
        {
          "output_type": "stream",
          "name": "stdout",
          "text": [
            "Prediction is: [0.99959043], Mean Squared Error is: [0.99918103]\n"
          ]
        }
      ]
    },
    {
      "cell_type": "code",
      "source": [
        "class NeuralNetwork:\n",
        "  def __init__(self, learning_rate):\n",
        "    self.weights = np.array([np.random.randn(), np.random.randn()])\n",
        "    self.bias = np.random.randn()\n",
        "    self.learning_rate = learning_rate\n",
        "\n",
        "  def sigmoid(self, x):\n",
        "    return 1/(1+np.exp(-x))\n",
        "\n",
        "  def sigmoid_derivative(self, x):\n",
        "    return self.sigmoid(x) * (1 - self.sigmoid(x))\n",
        "\n",
        "  def predict(self, input_vector):\n",
        "    layer_1 = np.dot(input_vector, self.weights) + self.bias\n",
        "    layer_2 = self.sigmoid(layer_1)\n",
        "    prediction = layer_2\n",
        "    return prediction\n",
        "\n",
        "  def compute_gradients(self, input_vector, target):\n",
        "    layer_1 = np.dot(input_vector, self.weights) + self.bias\n",
        "    layer_2 = self.sigmoid(layer_1)\n",
        "    prediction = layer_2\n",
        "\n",
        "    derror_dprediction = 2 * (prediction - target)\n",
        "    dprediction_dlayer1 = self.sigmoid_derivative(layer_1)\n",
        "    dlayer1_bias = 1\n",
        "    dlayer1_dweights = (0 * self.weights) + (1 * input_vector)\n",
        "\n",
        "    derror_dbias = (derror_dprediction * dprediction_dlayer1 * dlayer1_bias)\n",
        "    derror_dweights = (derror_dprediction * dprediction_dlayer1 * dlayer1_dweights)\n",
        "\n",
        "    return derror_dbias, derror_dweights\n",
        "\n",
        "  def update_parameters(self, derror_dbias, derror_dweights):\n",
        "    self.bias = self.bias - (derror_dbias * self.learning_rate)\n",
        "    self.weights = self.weights - (derror_dweights * self.learning_rate)\n",
        "\n",
        "  def train(self, input_vectors, targets, iterations):\n",
        "    cumulative_errors = []\n",
        "    for current_iteration in range(iterations):\n",
        "      # select a random data instance\n",
        "      # target in this instance is the dependent variable while input_vectors\n",
        "      # are the features or independent variable\n",
        "      random_data_index = np.random.randint(len(input_vectors))\n",
        "      input_vector = input_vectors[random_data_index]\n",
        "      target = targets[random_data_index]\n",
        "\n",
        "      # compute the gradients and update the weights\n",
        "      derror_dbias, derror_dweights = self.compute_gradients(input_vector, target)\n",
        "\n",
        "      self.update_parameters(derror_dbias, derror_dweights)\n",
        "\n",
        "      # Measure the cumulative error for all the instances\n",
        "      if current_iteration % 100 == 0:\n",
        "        cumulative_error = 0\n",
        "        # Loop through all the instances to measure the error\n",
        "        for data_instance_index in range(len(input_vectors)):\n",
        "          data_point = input_vectors[data_instance_index]\n",
        "          target = targets[data_instance_index]\n",
        "\n",
        "          prediction = self.predict(data_point)\n",
        "          error = np.square(prediction - target)\n",
        "\n",
        "          cumulative_error = cumulative_error + error\n",
        "        cumulative_errors.append(cumulative_error)\n",
        "\n",
        "    return cumulative_errors"
      ],
      "metadata": {
        "id": "UQ1EO50i4tRD"
      },
      "execution_count": 108,
      "outputs": []
    },
    {
      "cell_type": "code",
      "source": [
        "#learning_rate = 0.001\n",
        "#ann = NeuralNetwork(learning_rate=learning_rate)\n",
        "#ann.predict(input_vector=inputs)"
      ],
      "metadata": {
        "id": "dAeRsfpb_EJs"
      },
      "execution_count": 109,
      "outputs": []
    },
    {
      "cell_type": "code",
      "source": [
        "import matplotlib.pyplot as plt\n",
        "\n",
        "input_vectors = np.array([[3, 1.5],[2, 1],[4, 1.5],[3, 4],[3.5, 0.5],[2, 0.5],[5.5, 1],[1, 1]])\n",
        "\n",
        "targets = np.array([0, 1, 0, 1, 0, 1, 1, 0])\n",
        "\n",
        "learning_rate = 0.01\n",
        "\n",
        "ann = NeuralNetwork(learning_rate)\n",
        "\n",
        "training_error = ann.train(input_vectors, targets, 10000)"
      ],
      "metadata": {
        "id": "RZFS1f_BRPUF"
      },
      "execution_count": 124,
      "outputs": []
    },
    {
      "cell_type": "code",
      "source": [
        "print(training_error)"
      ],
      "metadata": {
        "colab": {
          "base_uri": "https://localhost:8080/"
        },
        "id": "v3F36qKpOfR6",
        "outputId": "3e3f02c7-dc9d-4e82-eaed-a1e9d8df8197"
      },
      "execution_count": 120,
      "outputs": [
        {
          "output_type": "stream",
          "name": "stdout",
          "text": [
            "[2.3935849359974473, 2.2319479690595196, 2.1890730593464816, 2.180962547871623, 2.1810556835252277, 2.191291911979357, 2.1784649119407726, 2.1820253686478823, 2.1505423868552365, 2.144658538382409, 2.14910067964665, 2.1371375265541523, 2.128904454028692, 2.124708180382848, 2.1190097226859432, 2.1120858677336947, 2.1097316723992345, 2.103318965342685, 2.1024747288688017, 2.092134710171538, 2.086065975358541, 2.084798913531626, 2.077981829181556, 2.0757927222398536, 2.082153478020389, 2.069952491822074, 2.0678121405590915, 2.0657597137532377, 2.060067353618845, 2.068768971701084, 2.0538547634517776, 2.053782148106445, 2.0466810258528882, 2.0540341705560996, 2.095261047203865, 2.030991370030439, 2.033705002828603, 2.028714451198154, 2.0528535732073148, 2.0679873702371827, 2.051470100003758, 2.02637960182598, 2.036621994611157, 2.0361107455266514, 2.0022179735171, 2.0030437201766937, 2.0016485439701213, 1.993374775803897, 2.0076505549908648, 1.991462297093756, 2.0399758980414933, 2.0124671199399016, 1.9897487801914733, 1.9883009738138617, 1.9930839487288685, 2.013108739279647, 1.977708344275695, 1.9909775653115833, 1.978103287278937, 1.9737605777518146, 1.9690358517637812, 1.9696689860758667, 1.976354960458221, 2.0065438106045033, 1.9690224332219028, 1.9588861176346906, 1.978925233345956, 2.0376641042571646, 1.9524087273737445, 1.9559208014065326, 1.9466218037811998, 1.95647766199504, 1.9631190012701083, 1.9756909570154897, 1.9424810423089847, 1.939694249240851, 1.9406366314959167, 1.9367505203206865, 1.9351909918798675, 1.9481494926992775, 1.9405943399614438, 1.969428806576357, 1.9380038913645374, 2.089132614499504, 1.9369102203750608, 1.9429533364310254, 2.001345861574852, 1.966398260302259, 1.9434849001495633, 1.9437632902371387, 1.9373948560695806, 1.9367222341256403, 1.9363494751881254, 1.970292112325917, 1.9258977796673133, 1.9725156970267235, 1.9493603389188556, 1.9273121394082495, 2.012566121645891, 1.980926944919695]\n"
          ]
        }
      ]
    },
    {
      "cell_type": "code",
      "source": [
        "plt.plot(training_error, c=\"r\")\n",
        "plt.xlabel(\"Iterations\")\n",
        "plt.ylabel(\"Error for all training instances\")\n",
        "plt.show()"
      ],
      "metadata": {
        "colab": {
          "base_uri": "https://localhost:8080/",
          "height": 449
        },
        "id": "qBLc-XgNS-ZP",
        "outputId": "94f8f441-c9a9-4ad9-9aaf-790897c7631d"
      },
      "execution_count": 125,
      "outputs": [
        {
          "output_type": "display_data",
          "data": {
            "text/plain": [
              "<Figure size 640x480 with 1 Axes>"
            ],
            "image/png": "[encoded data removed]"
          },
          "metadata": {}
        }
      ]
    }
  ]
}