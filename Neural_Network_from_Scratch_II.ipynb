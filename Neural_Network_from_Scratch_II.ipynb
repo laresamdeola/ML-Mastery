{
  "nbformat": 4,
  "nbformat_minor": 0,
  "metadata": {
    "colab": {
      "provenance": [],
      "authorship_tag": "ABX9TyPOoXDPElqYL3NRrnoaKNNE"
    },
    "kernelspec": {
      "name": "python3",
      "display_name": "Python 3"
    },
    "language_info": {
      "name": "python"
    }
  },
  "cells": [
    {
      "cell_type": "code",
      "execution_count": 48,
      "metadata": {
        "id": "mrbXPHEmIj9z"
      },
      "outputs": [],
      "source": [
        "import numpy as np\n",
        "import math"
      ]
    },
    {
      "cell_type": "code",
      "source": [
        "#sigmoid function\n",
        "\n",
        "def sigmoid(x, derivative=False):\n",
        "  if(derivative==True):\n",
        "    return x*(1-x)\n",
        "  return 1/(1+np.exp(-x))"
      ],
      "metadata": {
        "id": "A3f0kf_nOdCg"
      },
      "execution_count": 49,
      "outputs": []
    },
    {
      "cell_type": "code",
      "source": [
        "#input dataset\n",
        "X = np.array([[0, 0, 1], [0, 1, 1], [1, 0, 1], [1, 1, 1]])\n",
        "\n",
        "#output dataset\n",
        "y = np.array([[0, 0, 1, 1]]).T"
      ],
      "metadata": {
        "id": "_Mi0eK-bOwL_"
      },
      "execution_count": 50,
      "outputs": []
    },
    {
      "cell_type": "code",
      "source": [
        "# seed random numbers to make calculation deterministic\n",
        "np.random.seed(1)"
      ],
      "metadata": {
        "id": "x69Kj3eVPDyW"
      },
      "execution_count": 51,
      "outputs": []
    },
    {
      "cell_type": "code",
      "source": [
        "# initialize weights randomly with mean 0\n",
        "weights = 2*np.random.random((3, 1)) - 1"
      ],
      "metadata": {
        "id": "Wd0QlmE5PKNh"
      },
      "execution_count": 52,
      "outputs": []
    },
    {
      "cell_type": "code",
      "source": [
        "# initialize the bias\n",
        "biases = np.random.randn()"
      ],
      "metadata": {
        "id": "XWtBSN7UQQir"
      },
      "execution_count": 53,
      "outputs": []
    },
    {
      "cell_type": "code",
      "source": [
        "print(weights, weights.mean())"
      ],
      "metadata": {
        "colab": {
          "base_uri": "https://localhost:8080/"
        },
        "id": "pabd_vJKPauU",
        "outputId": "4e108135-200a-4ddf-b65c-29df5d99aa4a"
      },
      "execution_count": 54,
      "outputs": [
        {
          "output_type": "stream",
          "name": "stdout",
          "text": [
            "[[-0.16595599]\n",
            " [ 0.44064899]\n",
            " [-0.99977125]] -0.24169275135861534\n"
          ]
        }
      ]
    },
    {
      "cell_type": "code",
      "source": [
        "for iter in range(10000):\n",
        "  # forward propagation\n",
        "  inputs = X\n",
        "  layer_1 = sigmoid(np.dot(inputs, weights) + biases)\n",
        "\n",
        "  # calculate error\n",
        "  layer_1_error = y - layer_1\n",
        "\n",
        "  # multiply error by the slope of the sigmoid\n",
        "  layer_1_delta = layer_1_error * sigmoid(layer_1, derivative=True)\n",
        "\n",
        "  # update weights\n",
        "  weights += np.dot(inputs.T, layer_1_delta)"
      ],
      "metadata": {
        "id": "zClkYyRzPtiV"
      },
      "execution_count": 55,
      "outputs": []
    },
    {
      "cell_type": "code",
      "source": [
        "print(\"Output after training\")\n",
        "print(layer_1)"
      ],
      "metadata": {
        "colab": {
          "base_uri": "https://localhost:8080/"
        },
        "id": "sWZDnH3ERBya",
        "outputId": "2f3e2a8f-383e-4db9-9d57-e4db81f25ad2"
      },
      "execution_count": 57,
      "outputs": [
        {
          "output_type": "stream",
          "name": "stdout",
          "text": [
            "Output after training\n",
            "[[0.0096611 ]\n",
            " [0.00786551]\n",
            " [0.99358811]\n",
            " [0.99212172]] \n",
            " [[0.02129482]\n",
            " [0.01737494]\n",
            " [0.997115  ]\n",
            " [0.99645233]]\n"
          ]
        }
      ]
    }
  ]
}